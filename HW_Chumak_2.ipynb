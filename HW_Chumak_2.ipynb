{
 "cells": [
  {
   "cell_type": "code",
   "execution_count": 2,
   "metadata": {},
   "outputs": [],
   "source": [
    "import numpy as np\n",
    "import matplotlib.pyplot as plt\n",
    "from pylab import *\n",
    "\n",
    "%matplotlib inline\n",
    "\n",
    "def combinations(n: int, k: int) -> int:\n",
    "    \"\"\"Число сочетаний.\n",
    "    \"\"\"\n",
    "    \n",
    "    return np.math.factorial(n) // (np.math.factorial(k) * np.math.factorial(n - k))"
   ]
  },
  {
   "cell_type": "markdown",
   "metadata": {},
   "source": [
    "#### Задача 1\n",
    "\n",
    "Контрольная работа состоит из пяти вопросов. На каждый вопрос приведено четыре варианта ответа, \n",
    "один из которых правильный. Составьте закон распределения числа правильных ответов при простом угадывании. \n",
    "Найдите M(X), D(X).\n",
    "\n",
    "\n",
    "$$P_n(X=k) = C_n^k p^k q^{n-k}$$"
   ]
  },
  {
   "cell_type": "code",
   "execution_count": 3,
   "metadata": {},
   "outputs": [
    {
     "name": "stdout",
     "output_type": "stream",
     "text": [
      "0.3955078125\n",
      "0.263671875\n",
      "0.087890625\n",
      "0.0146484375\n",
      "0.0009765625\n",
      "𝑀(𝑋) = n*p = 5*0.25 = 1.25\n",
      "𝐷(𝑋) = n*p*q = 5*0.25*0.75 = 0.9375\n"
     ]
    },
    {
     "data": {
      "text/plain": [
       "[<matplotlib.lines.Line2D at 0x10e8e7cdb48>]"
      ]
     },
     "execution_count": 3,
     "metadata": {},
     "output_type": "execute_result"
    },
    {
     "data": {
      "image/png": "[encoded data removed]",
      "text/plain": [
       "<Figure size 1296x576 with 1 Axes>"
      ]
     },
     "metadata": {
      "needs_background": "light"
     },
     "output_type": "display_data"
    }
   ],
   "source": [
    "def disp_right(questions, right_asw, n): # функция, рассчитывающая число наступления событий\n",
    "    p = right_asw / questions   # вероятность угадать правильный ответ\n",
    "    q = 1 - p    # вероятность не угадать правильный ответ\n",
    "    prob = []\n",
    "    for k in range(1, n+1):        \n",
    "        prob_x_k = combinations(n,k) * (p **k)*(q**(n-k))\n",
    "        prob.append(prob_x_k)\n",
    "        \n",
    "    print(f'𝑀(𝑋) = n*p = {n}*{p} =',n*p)\n",
    "    print(f'𝐷(𝑋) = n*p*q = {n}*{p}*{q} =',n*p*q)\n",
    "    return prob\n",
    "\n",
    "fig = plt.figure(figsize=(18,8))\n",
    "xticks(range(0, 5))\n",
    "xlim(0, 4)\n",
    "grid(linewidth = 1.5)\n",
    "plt.plot(disp_right(4, 1, 5))"
   ]
  },
  {
   "cell_type": "markdown",
   "metadata": {},
   "source": [
    "#### Задача 2\n",
    "\n",
    "Пользователь получает в среднем 10 писем со спамом на свой почтовый ящик за сутки. \n",
    "Найти число N, такое, что с вероятностью 0.95 пользователь получит не более N писем со спамом за текущий день.\n",
    "$$P_m \\approx \\frac{\\lambda^m}{m!}e^{-\\lambda}$$"
   ]
  },
  {
   "cell_type": "markdown",
   "metadata": {},
   "source": [
    "Pm = 0.95\n",
    "\n",
    "𝜆 = Mx = 10 = n*p\n",
    "\n",
    "считаем вероятность для разных N (m  в формуле) пока не найдем вероятность больше 0,95\n"
   ]
  },
  {
   "cell_type": "code",
   "execution_count": 6,
   "metadata": {},
   "outputs": [
    {
     "data": {
      "text/plain": [
       "(15, 0.9512595966960214)"
      ]
     },
     "execution_count": 6,
     "metadata": {},
     "output_type": "execute_result"
    }
   ],
   "source": [
    "def prob_count(m, 𝜆):\n",
    "    prob = (𝜆**m)*np.exp(-𝜆)/np.math.factorial(m)\n",
    "    return(prob)\n",
    "i = -1\n",
    "p = 0\n",
    "\n",
    "while p < 0.95:\n",
    "    i += 1\n",
    "    p += prob_count(i, 10)\n",
    "i, p\n"
   ]
  },
  {
   "cell_type": "code",
   "execution_count": null,
   "metadata": {},
   "outputs": [],
   "source": [
    "Задача 3\n",
    "\n",
    "Производятся выстрелы по мишени. Вероятность попадания в мишень при одном выстреле равна 0.01. \n",
    "Сколько выстрелов нужно сделать чтобы быть уверенным с вероятностью 0.9, что хотя бы 6 раз будет совершено попадание?\n",
    "\n",
    "Подсказка. \n",
    "1) \"Вероятность попасть k раз при n выстрелах\" - на какое распределение это похоже? \n",
    "2) А если нам нужна вероятность P(X >= k), а не P(X = k)? \n",
    "3) Здесь предстоит немножко покодить."
   ]
  },
  {
   "cell_type": "markdown",
   "metadata": {},
   "source": [
    "k=6 \n",
    "\n",
    "p=0.01\n",
    "\n",
    "p_x=0.9\n",
    "\n",
    "n - будем перебирать"
   ]
  },
  {
   "cell_type": "code",
   "execution_count": 37,
   "metadata": {},
   "outputs": [],
   "source": [
    "def prob_comb(p: float, k: int, n: int): # функция, рассчитывающая число наступления событий\n",
    "    q = 1 - p\n",
    "    prob_x_k = combinations(n,k) * (p **k)*(q**(n - k))        \n",
    "    return prob_x_k\n"
   ]
  },
  {
   "cell_type": "markdown",
   "metadata": {},
   "source": [
    "раз попасть нужно 6 раз, всего выстрелов будет больше, значит нужно просуммировать вероятность 6 попаданий и вероятность n-6 непопаданий"
   ]
  },
  {
   "cell_type": "code",
   "execution_count": 55,
   "metadata": {},
   "outputs": [],
   "source": [
    "def sum_prob(p: float, k: int, n: int):\n",
    "    sum = 0    \n",
    "    for i in range(k, n + 1):\n",
    "        sum += prob_comb(p, i, n)\n",
    "    return sum"
   ]
  },
  {
   "cell_type": "code",
   "execution_count": 59,
   "metadata": {},
   "outputs": [
    {
     "name": "stdout",
     "output_type": "stream",
     "text": [
      "result: n=926 for prob=0.9003627121531275\n"
     ]
    }
   ],
   "source": [
    "k = 6\n",
    "p = 0.01\n",
    "p_x = 0.9\n",
    "n = 6\n",
    "prob = 0\n",
    "while prob < 0.9:\n",
    "    n += 1\n",
    "    prob = sum_prob(p, k, n)\n",
    "print(f'result: n={n} for prob={prob}')"
   ]
  }
 ],
 "metadata": {
  "kernelspec": {
   "display_name": "Python 3",
   "language": "python",
   "name": "python3"
  },
  "language_info": {
   "codemirror_mode": {
    "name": "ipython",
    "version": 3
   },
   "file_extension": ".py",
   "mimetype": "text/x-python",
   "name": "python",
   "nbconvert_exporter": "python",
   "pygments_lexer": "ipython3",
   "version": "3.7.4"
  }
 },
 "nbformat": 4,
 "nbformat_minor": 2
}
