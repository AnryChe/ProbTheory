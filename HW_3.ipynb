{
 "cells": [
  {
   "cell_type": "markdown",
   "metadata": {},
   "source": [
    "#### Задача 1\n",
    "\n",
    "Даны значения зарплат из выборки выпускников:\n",
    "\n",
    "100, 80, 75, 77, 89, 33, 45, 25, 65, 17, 30, 230, 24, 57, 55, 70, 75, 65, 84, 90, 150\n",
    "\n",
    "Используя только встроенные питоновские функции и структуры данных (т.е. без библиотек numpy, pandas и др.) посчитать среднее арифметическое, смещённую и несмещённую оценки дисперсии, среднее квадратичное отклонение для данной выборки.\n",
    "\n",
    "Можно затем посчитать те же значения с использованием библиотек, чтобы проверить себя.\n",
    "\n"
   ]
  },
  {
   "cell_type": "code",
   "execution_count": 72,
   "metadata": {},
   "outputs": [
    {
     "name": "stdout",
     "output_type": "stream",
     "text": [
      "Среднее арифметическое:  73.14285714285714 \n",
      "Смещенная выборочная дисперсия:  2135.074829931973 \n",
      "Несмещенная выборочная дисперсия:  47078.40000000001 \n",
      "Среднее квадратичное отклонение:  46.20686994302874\n"
     ]
    }
   ],
   "source": [
    "selection = [100, 80, 75, 77, 89, 33, 45, 25, 65, 17, 30, 230, 24, 57, 55, 70, 75, 65, 84, 90, 150]\n",
    "n = len(selection) \n",
    "sel_avg = sum(selection)/n\n",
    "dif_sel = []\n",
    "for i in selection:\n",
    "    sq = (i-sel_avg)**2\n",
    "    dif_sel.append(sq)\n",
    "s_sel = sum(dif_sel)/n\n",
    "s_unb = n*sum(dif_sel)/(n-1)\n",
    "avg_s = s_sel**0.5\n",
    "\n",
    "print('Среднее арифметическое: ', sel_avg,'\\nСмещенная выборочная дисперсия: ',s_sel,\n",
    "      '\\nНесмещенная выборочная дисперсия: ',s_unb,'\\nСреднее квадратичное отклонение: ',avg_s, )"
   ]
  },
  {
   "cell_type": "markdown",
   "metadata": {},
   "source": [
    "#### Задача 2\n",
    "\n",
    "Для выборки из задачи 1 найти (также без использования библиотек):\n",
    "1. медиану, первый и третий квартили, интерквартильное расстояние,\n",
    "2. выборсы в выборке (используя для этого метод как при построении \"усов\" из boxplot).\n",
    "\n",
    "Возможные неоднозначности в вычислении квантилей можно разрешать любым способом.\n",
    "\n"
   ]
  },
  {
   "cell_type": "code",
   "execution_count": 87,
   "metadata": {},
   "outputs": [
    {
     "name": "stdout",
     "output_type": "stream",
     "text": [
      "70 70\n"
     ]
    }
   ],
   "source": [
    "selection = [100, 80, 75, 77, 89, 33, 45, 25, 65, 17, 30, 230, 24, 57, 55, 70, 75, 65, 84, 90, 150]\n",
    "\n",
    "\n",
    "def dict_median(s_dict): #функция для расчета медианы\n",
    "    n = len(s_dict)\n",
    "    s_dict.sort()\n",
    "    if n%2==0:\n",
    "        med=(s_dict[n//2-1]+s_dict[n//2])/2         \n",
    "    else:\n",
    "        med=s_dict[n//2]    \n",
    "    return med\n",
    "\n",
    "\n",
    "dict_median(selection)\n",
    "print(dict_median(selection), statistics.median(selection))"
   ]
  },
  {
   "cell_type": "code",
   "execution_count": 88,
   "metadata": {},
   "outputs": [
    {
     "name": "stdout",
     "output_type": "stream",
     "text": [
      "45 45.0\n"
     ]
    }
   ],
   "source": [
    "import numpy as np\n",
    "\n",
    "\n",
    "def dict_f_qrt(s_dict): #функция для расчета 1 квартиля\n",
    "    n = len(s_dict)      \n",
    "    if n%2==0:\n",
    "        first_qrt=(s_dict[n//4-1]+s_dict[n//4])/2         \n",
    "    else:\n",
    "        first_qrt=s_dict[n//4]    \n",
    "    return first_qrt\n",
    "\n",
    "print(dict_f_qrt(selection), np.percentile(selection, 25))"
   ]
  },
  {
   "cell_type": "code",
   "execution_count": 89,
   "metadata": {},
   "outputs": [
    {
     "name": "stdout",
     "output_type": "stream",
     "text": [
      "84 84.0\n"
     ]
    }
   ],
   "source": [
    "def dict_t_qrt(s_dict):   #функция для расчета 3 квартиля\n",
    "    n = len(s_dict)\n",
    "    s_dict.sort()    \n",
    "    if n%2==0:\n",
    "        first_qrt=(s_dict[3*n//4-1]+s_dict[3*n//4])/2         \n",
    "    else:\n",
    "        first_qrt=s_dict[3*n//4]    \n",
    "    return first_qrt\n",
    "\n",
    "print(dict_t_qrt(selection), np.percentile(selection, 75))"
   ]
  },
  {
   "cell_type": "code",
   "execution_count": 90,
   "metadata": {},
   "outputs": [
    {
     "name": "stdout",
     "output_type": "stream",
     "text": [
      "84-45=39\n"
     ]
    }
   ],
   "source": [
    "# интерквартильное расстояние\n",
    "print(f'{dict_t_qrt(selection)}-{dict_f_qrt(selection)}={dict_t_qrt(selection)-dict_f_qrt(selection)}')"
   ]
  },
  {
   "cell_type": "markdown",
   "metadata": {},
   "source": [
    "#### Задача 3\n",
    "\n",
    "В университет на факультеты A и B поступило равное количество студентов, а на факультет C студентов поступило столько же, сколько на A и B вместе. Вероятность того, что студент факультета A сдаст первую сессию, равна 0.8. Для студента факультета B эта вероятность равна 0.7, а для студента факультета C - 0.9. Студент сдал первую сессию. Какова вероятность, что он учится: a) на факультете A? б) на факультете B? в) на факультете C?\n",
    "\n",
    "Замечание: да, эта задача не на тему описательных статистик, но тема важная, и её стоит иногда освежать в памяти."
   ]
  },
  {
   "cell_type": "code",
   "execution_count": 102,
   "metadata": {},
   "outputs": [
    {
     "name": "stdout",
     "output_type": "stream",
     "text": [
      "0.2 0.175 0.45\n",
      "0.825\n",
      "0.24242424242424246 0.21212121212121213 0.5454545454545455 1.0\n"
     ]
    }
   ],
   "source": [
    "m = 100 #случайное число для порведения вычисления\n",
    "ka = kb = m # кол-во студентов на  А или В факультете\n",
    "kc = 2*m # кол-во студентов факультета С\n",
    "kf = 4*m # общее кол-во студентов\n",
    "pa = 0.8\n",
    "pb = 0.7\n",
    "pc = 0.9\n",
    "# вероятность выбать из общего количества студента, который сдал для каждого факультета:\n",
    "va = ka/kf*pa\n",
    "vb = kb/kf*pb\n",
    "vc = kc/kf*pc\n",
    "print(va, vb, vc)\n",
    "# всего доля студентов, которые сдадут\n",
    "p_summ = sum([va, vb, vc])\n",
    "print(p_summ)\n",
    "# вероятности что студент сдал и учится на определенном факультете:\n",
    "pfa = va/p_summ\n",
    "pfb = vb/p_summ\n",
    "pfc = vc/p_summ\n",
    "\n",
    "print(pfa, pfb, pfc, sum([pfa, pfb, pfc]))"
   ]
  }
 ],
 "metadata": {
  "kernelspec": {
   "display_name": "Python 3",
   "language": "python",
   "name": "python3"
  },
  "language_info": {
   "codemirror_mode": {
    "name": "ipython",
    "version": 3
   },
   "file_extension": ".py",
   "mimetype": "text/x-python",
   "name": "python",
   "nbconvert_exporter": "python",
   "pygments_lexer": "ipython3",
   "version": "3.7.4"
  }
 },
 "nbformat": 4,
 "nbformat_minor": 2
}
